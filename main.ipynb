{
 "cells": [
  {
   "cell_type": "markdown",
   "id": "31fb3351",
   "metadata": {},
   "source": [
    "# Seq2bg\n",
    "\n",
    "## Imports"
   ]
  },
  {
   "cell_type": "code",
   "execution_count": null,
   "id": "2338297e",
   "metadata": {},
   "outputs": [],
   "source": [
    "import torch\n",
    "import torch.nn as nn\n",
    "from torch.optim import Adam\n",
    "from Seq2Seq import Seq2Seq\n",
    "from torch.utils.data import DataLoader\n",
    "import io\n",
    "import imageio\n",
    "from ipywidgets import widgets, HBox"
   ]
  },
  {
   "cell_type": "code",
   "execution_count": 4,
   "id": "e908c4e6",
   "metadata": {},
   "outputs": [],
   "source": [
    "\n",
    "import numpy as np\n",
    "\n",
    "import os\n",
    "import cv2\n",
    "\n",
    "\n",
    "\n",
    "# Use GPU if available\n",
    "#device = torch.device('cuda' if torch.cuda.is_available() else 'cpu')"
   ]
  },
  {
   "cell_type": "markdown",
   "id": "13dbd0b8",
   "metadata": {},
   "source": [
    "## Load data"
   ]
  },
  {
   "cell_type": "code",
   "execution_count": 28,
   "id": "e1e2ec7e",
   "metadata": {},
   "outputs": [],
   "source": [
    "input_path = \"highway/input\"\n",
    "gt_path = \"highway/groundtruth/\"\n",
    "dataset = {}\n",
    "\n",
    "\n",
    "# Llegim totes les imatges d'input i les incorporam a una ED de numpy\n",
    "imatges_input = os.listdir(input_path)\n",
    "imatges_input.sort()\n",
    "\n",
    "input_data = np.zeros((len(imatges_input), 3, 240, 320))\n",
    "\n",
    "\n",
    "for idx, imatge in enumerate(imatges_input):\n",
    "    aux = cv2.imread(input_path +\"/\" + imatge)\n",
    "    input_data[idx,:,:,:] = np.moveaxis(aux, -1, 0)\n",
    "    \n",
    "# Llegim totes les imatges de GT i les incorporam a una ED de numpy\n",
    "input_gt = np.zeros((len(imatges_input), 1, 240, 320))\n",
    "imatges_gt = os.listdir(gt_path)\n",
    "imatges_gt.sort()\n",
    "\n",
    "for idx, imatge in enumerate(imatges_gt):\n",
    "    aux = cv2.imread(gt_path +\"/\" + imatge, cv2.IMREAD_GRAYSCALE)\n",
    "    input_gt[idx,:,:,:] = aux\n",
    "    \n"
   ]
  },
  {
   "cell_type": "code",
   "execution_count": 29,
   "id": "a61cd7ca",
   "metadata": {},
   "outputs": [],
   "source": [
    "dataset = zip(input_data, input_gt)\n",
    "\n"
   ]
  },
  {
   "cell_type": "code",
   "execution_count": null,
   "id": "ce0612ff",
   "metadata": {},
   "outputs": [],
   "source": [
    "def collate(batch):\n",
    "\n",
    "    # Add channel dim, scale pixels between 0 and 1, send to GPU\n",
    "    batch = torch.tensor(batch).unsqueeze(1)     \n",
    "    batch = batch / 255.0                        \n",
    "    batch = batch.to(device)                     \n",
    "\n",
    "    # Randomly pick 10 frames as input, 11th frame is target\n",
    "    rand = np.random.randint(10,20)                     \n",
    "    return batch[:,:,rand-10:rand], batch[:,:,rand]     \n",
    "\n",
    "\n",
    "# Training Data Loader\n",
    "train_loader = DataLoader(dataset, shuffle=True, \n",
    "                        batch_size=16, collate_fn=collate)\n",
    "\n",
    "# Validation Data Loader\n",
    "val_loader = DataLoader(val_data, shuffle=True, \n",
    "                        batch_size=16, collate_fn=collate)"
   ]
  }
 ],
 "metadata": {
  "kernelspec": {
   "display_name": "Python 3 (ipykernel)",
   "language": "python",
   "name": "python3"
  },
  "language_info": {
   "codemirror_mode": {
    "name": "ipython",
    "version": 3
   },
   "file_extension": ".py",
   "mimetype": "text/x-python",
   "name": "python",
   "nbconvert_exporter": "python",
   "pygments_lexer": "ipython3",
   "version": "3.10.4"
  }
 },
 "nbformat": 4,
 "nbformat_minor": 5
}
